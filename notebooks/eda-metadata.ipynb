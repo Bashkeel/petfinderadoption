{
 "cells": [
  {
   "cell_type": "code",
   "execution_count": 1,
   "metadata": {},
   "outputs": [],
   "source": [
    "import pandas as pd\n",
    "import json"
   ]
  },
  {
   "cell_type": "code",
   "execution_count": 2,
   "metadata": {},
   "outputs": [],
   "source": [
    "train = pd.read_csv(\"../data/train/train.csv\")\n",
    "pet_ids = train['PetID'].values[0:1000]"
   ]
  },
  {
   "cell_type": "code",
   "execution_count": 90,
   "metadata": {},
   "outputs": [],
   "source": [
    "# with open('../data/train_metadata/000a290e4-1.json', 'r') as f:\n",
    "#     data = json.load(f)"
   ]
  },
  {
   "cell_type": "code",
   "execution_count": 91,
   "metadata": {},
   "outputs": [],
   "source": [
    "# print(data.keys())\n",
    "# data['imagePropertiesAnnotation']['dominantColors']['colors'][0]['color']"
   ]
  },
  {
   "cell_type": "code",
   "execution_count": 92,
   "metadata": {},
   "outputs": [],
   "source": [
    "# Details to extract\n",
    "\n",
    "\n",
    "# Label Annotations Info: https://cloud.google.com/vision/docs/reference/rest/v1/AnnotateImageResponse#EntityAnnotation\n",
    "label_description = data['labelAnnotations'][0]['description']\n",
    "label_score = data['labelAnnotations'][0]['score']\n",
    "label_topicality = data['labelAnnotations'][0]['topicality']\n",
    "\n",
    "# Image Properties Annotation (Colors): https://cloud.google.com/vision/docs/reference/rest/v1/AnnotateImageResponse#ImageProperties\n",
    "dominant_red = data['imagePropertiesAnnotation']['dominantColors']['colors'][0]['color']['red']\n",
    "dominant_green = data['imagePropertiesAnnotation']['dominantColors']['colors'][0]['color']['green']\n",
    "dominant_blue = data['imagePropertiesAnnotation']['dominantColors']['colors'][0]['color']['blue']\n",
    "dominant_score = data['imagePropertiesAnnotation']['dominantColors']['colors'][0]['score']\n",
    "dominant_pixel_frac = data['imagePropertiesAnnotation']['dominantColors']['colors'][0]['pixelFraction']\n",
    "\n",
    "# Crop Hint Annotations: https://cloud.google.com/vision/docs/reference/rest/v1/AnnotateImageResponse#CropHintsAnnotation\n",
    "bounding_vertex_x = data['cropHintsAnnotation']['cropHints'][0]['boundingPoly']['vertices'][2]['x']\n",
    "bounding_vertex_y = data['cropHintsAnnotation']['cropHints'][0]['boundingPoly']['vertices'][2]['y']\n",
    "bounding_confidence = data['cropHintsAnnotation']['cropHints'][0]['confidence']\n",
    "bounding_importance_frac = data['cropHintsAnnotation']['cropHints'][0]['importanceFraction']"
   ]
  },
  {
   "cell_type": "code",
   "execution_count": 3,
   "metadata": {},
   "outputs": [],
   "source": [
    "label_descriptions = []\n",
    "label_scores = []\n",
    "dominant_reds = []\n",
    "dominant_greens = []\n",
    "dominant_blues = []\n",
    "dominant_scores = []\n",
    "dominant_pixel_fracs = []\n",
    "bounding_vertex_xs = []\n",
    "bounding_vertex_ys = []\n",
    "bounding_confidences = []\n",
    "bounding_importance_fracs = []\n",
    "\n",
    "num_missing_files = 0\n",
    "num_present_files =0"
   ]
  },
  {
   "cell_type": "code",
   "execution_count": 5,
   "metadata": {},
   "outputs": [],
   "source": [
    "for pet in pet_ids:\n",
    "    try:\n",
    "        with open(f'../data/train_metadata/{pet}-1.json', 'r', encoding='utf-8') as f:\n",
    "            data = json.load(f)\n",
    "            num_present_files += 1\n",
    "            label_descriptions.append(data['labelAnnotations'][0]['description'])\n",
    "            label_scores.append(data['labelAnnotations'][0]['score'])\n",
    "\n",
    "            dominant_reds.append(data['imagePropertiesAnnotation']['dominantColors']['colors'][0]['color']['red'])\n",
    "            dominant_greens.append(data['imagePropertiesAnnotation']['dominantColors']['colors'][0]['color']['green'])\n",
    "            dominant_blues.append(data['imagePropertiesAnnotation']['dominantColors']['colors'][0]['color']['blue'])\n",
    "            dominant_scores.append(data['imagePropertiesAnnotation']['dominantColors']['colors'][0]['score'])\n",
    "            dominant_pixel_fracs.append(data['imagePropertiesAnnotation']['dominantColors']['colors'][0]['pixelFraction'])\n",
    "\n",
    "            bounding_vertex_xs.append(data['cropHintsAnnotation']['cropHints'][0]['boundingPoly']['vertices'][2]['x'])\n",
    "            bounding_vertex_ys.append(data['cropHintsAnnotation']['cropHints'][0]['boundingPoly']['vertices'][2]['y'])\n",
    "            bounding_confidences.append(data['cropHintsAnnotation']['cropHints'][0]['confidence'])\n",
    "            bounding_importance_fracs.append(data['cropHintsAnnotation']['cropHints'][0]['importanceFraction'])\n",
    "        \n",
    "    except FileNotFoundError:\n",
    "        num_missing_files += 1\n",
    "        label_descriptions.append(-1)\n",
    "        label_scores.append(-1)\n",
    "        dominant_reds.append(-1)\n",
    "        dominant_greens.append(-1)\n",
    "        dominant_blues.append(-1)\n",
    "        dominant_scores.append(-1)\n",
    "        dominant_pixel_fracs.append(-1)\n",
    "        bounding_vertex_xs.append(-1)\n",
    "        bounding_vertex_ys.append(-1)\n",
    "        bounding_confidences.append(-1)\n",
    "        bounding_importance_fracs.append(-1)\n",
    "\n",
    "        "
   ]
  },
  {
   "cell_type": "code",
   "execution_count": null,
   "metadata": {},
   "outputs": [],
   "source": []
  },
  {
   "cell_type": "code",
   "execution_count": null,
   "metadata": {},
   "outputs": [],
   "source": []
  }
 ],
 "metadata": {
  "kernelspec": {
   "display_name": "Python 3",
   "language": "python",
   "name": "python3"
  },
  "language_info": {
   "codemirror_mode": {
    "name": "ipython",
    "version": 3
   },
   "file_extension": ".py",
   "mimetype": "text/x-python",
   "name": "python",
   "nbconvert_exporter": "python",
   "pygments_lexer": "ipython3",
   "version": "3.7.2"
  }
 },
 "nbformat": 4,
 "nbformat_minor": 4
}
